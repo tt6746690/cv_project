{
 "cells": [
  {
   "cell_type": "markdown",
   "metadata": {},
   "source": [
    "## Challenging test images \n",
    "\n",
    "\n",
    "- spatial resolution \n",
    "    - image a printed paper with different spatial frequencies (horizontal/vertical)\n",
    "- depth discontinuities\n",
    "    - the ball"
   ]
  },
  {
   "cell_type": "code",
   "execution_count": null,
   "metadata": {},
   "outputs": [],
   "source": [
    "import cv2 as cv\n",
    "import numpy as np\n",
    "import numpy.matlib\n",
    "from matplotlib.backends.backend_pdf import PdfPages\n",
    "import matplotlib.pyplot as plt\n",
    "import scipy.misc as scipymisc\n",
    "import math"
   ]
  },
  {
   "cell_type": "code",
   "execution_count": null,
   "metadata": {},
   "outputs": [],
   "source": [
    "# A4 paper has printing resolution (2480,3508)\n",
    "a4dim = (2480,3508)\n",
    "# a4dim = (320,250)\n",
    "# repeats\n",
    "rep = 80\n",
    "# number of different spatial freqs \n",
    "nfreqs = 10"
   ]
  },
  {
   "cell_type": "code",
   "execution_count": null,
   "metadata": {},
   "outputs": [],
   "source": [
    "chart = np.zeros(a4dim)\n",
    "\n",
    "x_start = 0\n",
    "resizeto = 0.5\n",
    "\n",
    "for i in range(nfreqs):\n",
    "    dy = int(a4dim[0])\n",
    "    dx = int(a4dim[1]*resizeto)\n",
    "    \n",
    "    im = np.zeros((a4dim[1],rep),dtype=np.uint8)\n",
    "    im[:,1:rep:2] = 255\n",
    "\n",
    "    im1 = cv.resize(im,(dx,int(dy/2)),interpolation=cv.INTER_NEAREST)\n",
    "    im1h,im1w = np.shape(im1)\n",
    "    im2 = np.transpose(im1)\n",
    "    im2h,im2w = np.shape(im2)\n",
    "    im2 = np.tile(im2,(math.ceil(dy/2/im2h),2))\n",
    "    \n",
    "    im = np.vstack((im1,im2[0:im1h,0:im1w]))\n",
    "    \n",
    "    chart[:,x_start:(x_start+dx)] = im\n",
    "    x_start += dx\n",
    "    resizeto /= 2"
   ]
  },
  {
   "cell_type": "code",
   "execution_count": null,
   "metadata": {},
   "outputs": [],
   "source": [
    "fig = plt.gcf()\n",
    "DPI = fig.get_dpi()\n",
    "figdim = a4dim[0]/float(DPI),a4dim[1]/float(DPI)\n",
    "fig.set_size_inches(figdim[0],figdim[1])\n",
    "plt.imshow(np.tile(chart[:,:,np.newaxis],(1,1,3)),interpolation='None')\n",
    "plt.axis('off')"
   ]
  },
  {
   "cell_type": "code",
   "execution_count": null,
   "metadata": {},
   "outputs": [],
   "source": [
    "cv.imwrite(f\"resolution_chart_{rep}.png\",chart)"
   ]
  }
 ],
 "metadata": {
  "kernelspec": {
   "display_name": "Python [conda env:cv_project] *",
   "language": "python",
   "name": "conda-env-cv_project-py"
  },
  "language_info": {
   "codemirror_mode": {
    "name": "ipython",
    "version": 3
   },
   "file_extension": ".py",
   "mimetype": "text/x-python",
   "name": "python",
   "nbconvert_exporter": "python",
   "pygments_lexer": "ipython3",
   "version": "3.7.7"
  }
 },
 "nbformat": 4,
 "nbformat_minor": 2
}
